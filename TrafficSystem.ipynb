{
  "nbformat": 4,
  "nbformat_minor": 0,
  "metadata": {
    "colab": {
      "provenance": [],
      "authorship_tag": "ABX9TyObQKxBND6MRD4qw/qCW7w4",
      "include_colab_link": true
    },
    "kernelspec": {
      "name": "python3",
      "display_name": "Python 3"
    },
    "language_info": {
      "name": "python"
    }
  },
  "cells": [
    {
      "cell_type": "markdown",
      "metadata": {
        "id": "view-in-github",
        "colab_type": "text"
      },
      "source": [
        "<a href=\"https://colab.research.google.com/github/JunaithSM/Traffic-System/blob/main/TrafficSystem.ipynb\" target=\"_parent\"><img src=\"https://colab.research.google.com/assets/colab-badge.svg\" alt=\"Open In Colab\"/></a>"
      ]
    },
    {
      "cell_type": "code",
      "source": [
        "import traci\n",
        "traci.close(False)"
      ],
      "metadata": {
        "id": "tiRIWFUny6f1"
      },
      "execution_count": 98,
      "outputs": []
    },
    {
      "cell_type": "code",
      "execution_count": 99,
      "metadata": {
        "colab": {
          "base_uri": "https://localhost:8080/"
        },
        "id": "9PRgG9U_T0Mo",
        "outputId": "79468b7f-18e8-48d2-87c4-38c15f871cde"
      },
      "outputs": [
        {
          "output_type": "stream",
          "name": "stdout",
          "text": [
            "Connected to SUMO server with label colab!\n",
            "Step 0, vehicles: ('veh0',)\n",
            "Step 1, vehicles: ('veh0',)\n",
            "Step 2, vehicles: ('veh0',)\n",
            "Step 3, vehicles: ('veh0',)\n",
            "Step 4, vehicles: ('veh0',)\n",
            "Step 5, vehicles: ('veh0',)\n",
            "Step 6, vehicles: ('veh0',)\n",
            "Step 7, vehicles: ('veh0',)\n",
            "Step 8, vehicles: ('veh0',)\n",
            "Step 9, vehicles: ('veh0', 'veh1')\n",
            "Step 10, vehicles: ('veh0', 'veh1')\n",
            "Step 11, vehicles: ('veh0', 'veh1')\n",
            "Step 12, vehicles: ('veh0', 'veh1')\n",
            "Step 13, vehicles: ('veh0', 'veh1')\n",
            "Step 14, vehicles: ('veh0', 'veh1')\n",
            "Step 15, vehicles: ('veh0', 'veh1')\n",
            "Step 16, vehicles: ('veh0', 'veh1')\n",
            "Step 17, vehicles: ('veh0', 'veh1', 'veh2')\n",
            "Step 18, vehicles: ('veh0', 'veh1', 'veh2')\n",
            "Step 19, vehicles: ('veh0', 'veh1', 'veh2')\n",
            "Step 20, vehicles: ('veh0', 'veh1', 'veh2')\n",
            "Step 21, vehicles: ('veh0', 'veh1', 'veh2')\n",
            "Step 22, vehicles: ('veh0', 'veh1', 'veh2')\n",
            "Step 23, vehicles: ('veh0', 'veh1', 'veh2')\n",
            "Step 24, vehicles: ('veh0', 'veh1', 'veh2')\n",
            "Step 25, vehicles: ('veh0', 'veh1', 'veh2', 'veh3')\n",
            "Step 26, vehicles: ('veh0', 'veh1', 'veh2', 'veh3')\n",
            "Step 27, vehicles: ('veh0', 'veh1', 'veh2', 'veh3')\n",
            "Step 28, vehicles: ('veh0', 'veh1', 'veh2', 'veh3')\n",
            "Step 29, vehicles: ('veh0', 'veh1', 'veh2', 'veh3')\n",
            "Step 30, vehicles: ('veh0', 'veh1', 'veh2', 'veh3')\n",
            "Step 31, vehicles: ('veh0', 'veh1', 'veh2', 'veh3')\n",
            "Step 32, vehicles: ('veh0', 'veh1', 'veh2', 'veh3')\n",
            "Step 33, vehicles: ('veh0', 'veh1', 'veh2', 'veh3', 'veh4')\n",
            "Step 34, vehicles: ('veh0', 'veh1', 'veh2', 'veh3', 'veh4')\n",
            "Step 35, vehicles: ('veh0', 'veh1', 'veh2', 'veh3', 'veh4')\n",
            "Step 36, vehicles: ('veh0', 'veh1', 'veh2', 'veh3', 'veh4')\n",
            "Step 37, vehicles: ('veh0', 'veh1', 'veh2', 'veh3', 'veh4')\n",
            "Step 38, vehicles: ('veh0', 'veh1', 'veh2', 'veh3', 'veh4')\n",
            "Step 39, vehicles: ('veh0', 'veh1', 'veh2', 'veh3', 'veh4')\n",
            "Step 40, vehicles: ('veh0', 'veh1', 'veh2', 'veh3', 'veh4')\n",
            "Step 41, vehicles: ('veh0', 'veh1', 'veh2', 'veh3', 'veh4', 'veh5')\n",
            "Step 42, vehicles: ('veh0', 'veh1', 'veh2', 'veh3', 'veh4', 'veh5')\n",
            "Step 43, vehicles: ('veh0', 'veh1', 'veh2', 'veh3', 'veh4', 'veh5')\n",
            "Step 44, vehicles: ('veh0', 'veh1', 'veh2', 'veh3', 'veh4', 'veh5')\n",
            "Step 45, vehicles: ('veh0', 'veh1', 'veh2', 'veh3', 'veh4', 'veh5')\n",
            "Step 46, vehicles: ('veh0', 'veh1', 'veh2', 'veh3', 'veh4', 'veh5')\n",
            "Step 47, vehicles: ('veh0', 'veh1', 'veh2', 'veh3', 'veh4', 'veh5')\n",
            "Step 48, vehicles: ('veh0', 'veh1', 'veh2', 'veh3', 'veh4', 'veh5')\n",
            "Step 49, vehicles: ('veh0', 'veh1', 'veh2', 'veh3', 'veh4', 'veh5')\n",
            "Step 50, vehicles: ('veh0', 'veh1', 'veh2', 'veh3', 'veh4', 'veh5', 'veh6')\n",
            "Step 51, vehicles: ('veh0', 'veh1', 'veh2', 'veh3', 'veh4', 'veh5', 'veh6')\n",
            "Step 52, vehicles: ('veh0', 'veh1', 'veh2', 'veh3', 'veh4', 'veh5', 'veh6')\n",
            "Step 53, vehicles: ('veh0', 'veh1', 'veh2', 'veh3', 'veh4', 'veh5', 'veh6')\n",
            "Step 54, vehicles: ('veh0', 'veh1', 'veh2', 'veh3', 'veh4', 'veh5', 'veh6')\n",
            "Step 55, vehicles: ('veh0', 'veh1', 'veh2', 'veh3', 'veh4', 'veh5', 'veh6')\n",
            "Step 56, vehicles: ('veh0', 'veh1', 'veh2', 'veh3', 'veh4', 'veh5', 'veh6')\n",
            "Step 57, vehicles: ('veh0', 'veh1', 'veh2', 'veh3', 'veh4', 'veh5', 'veh6')\n",
            "Step 58, vehicles: ('veh0', 'veh1', 'veh2', 'veh3', 'veh4', 'veh5', 'veh6', 'veh7')\n",
            "Step 59, vehicles: ('veh0', 'veh1', 'veh2', 'veh3', 'veh4', 'veh5', 'veh6', 'veh7')\n",
            "Step 60, vehicles: ('veh0', 'veh1', 'veh2', 'veh3', 'veh4', 'veh5', 'veh6', 'veh7')\n",
            "Step 61, vehicles: ('veh0', 'veh1', 'veh2', 'veh3', 'veh4', 'veh5', 'veh6', 'veh7')\n",
            "Step 62, vehicles: ('veh0', 'veh1', 'veh2', 'veh3', 'veh4', 'veh5', 'veh6', 'veh7')\n",
            "Step 63, vehicles: ('veh0', 'veh1', 'veh2', 'veh3', 'veh4', 'veh5', 'veh6', 'veh7')\n",
            "Step 64, vehicles: ('veh0', 'veh1', 'veh2', 'veh3', 'veh4', 'veh5', 'veh6', 'veh7')\n",
            "Step 65, vehicles: ('veh1', 'veh2', 'veh3', 'veh4', 'veh5', 'veh6', 'veh7')\n",
            "Step 66, vehicles: ('veh1', 'veh2', 'veh3', 'veh4', 'veh5', 'veh6', 'veh7', 'veh8')\n",
            "Step 67, vehicles: ('veh1', 'veh2', 'veh3', 'veh4', 'veh5', 'veh6', 'veh7', 'veh8')\n",
            "Step 68, vehicles: ('veh1', 'veh2', 'veh3', 'veh4', 'veh5', 'veh6', 'veh7', 'veh8')\n",
            "Step 69, vehicles: ('veh1', 'veh2', 'veh3', 'veh4', 'veh5', 'veh6', 'veh7', 'veh8')\n",
            "Step 70, vehicles: ('veh1', 'veh2', 'veh3', 'veh4', 'veh5', 'veh6', 'veh7', 'veh8')\n",
            "Step 71, vehicles: ('veh1', 'veh2', 'veh3', 'veh4', 'veh5', 'veh6', 'veh7', 'veh8')\n",
            "Step 72, vehicles: ('veh1', 'veh2', 'veh3', 'veh4', 'veh5', 'veh6', 'veh7', 'veh8')\n",
            "Step 73, vehicles: ('veh1', 'veh2', 'veh3', 'veh4', 'veh5', 'veh6', 'veh7', 'veh8')\n",
            "Step 74, vehicles: ('veh1', 'veh2', 'veh3', 'veh4', 'veh5', 'veh6', 'veh7', 'veh8', 'veh9')\n",
            "Step 75, vehicles: ('veh1', 'veh2', 'veh3', 'veh4', 'veh5', 'veh6', 'veh7', 'veh8', 'veh9')\n",
            "Step 76, vehicles: ('veh1', 'veh2', 'veh3', 'veh4', 'veh5', 'veh6', 'veh7', 'veh8', 'veh9')\n",
            "Step 77, vehicles: ('veh1', 'veh2', 'veh3', 'veh4', 'veh5', 'veh6', 'veh7', 'veh8', 'veh9')\n",
            "Step 78, vehicles: ('veh1', 'veh2', 'veh3', 'veh4', 'veh5', 'veh6', 'veh7', 'veh8', 'veh9')\n",
            "Step 79, vehicles: ('veh1', 'veh2', 'veh3', 'veh4', 'veh5', 'veh6', 'veh7', 'veh8', 'veh9')\n",
            "Step 80, vehicles: ('veh1', 'veh2', 'veh3', 'veh4', 'veh5', 'veh6', 'veh7', 'veh8', 'veh9')\n",
            "Step 81, vehicles: ('veh1', 'veh2', 'veh3', 'veh4', 'veh5', 'veh6', 'veh7', 'veh8', 'veh9')\n",
            "Step 82, vehicles: ('veh1', 'veh10', 'veh2', 'veh3', 'veh4', 'veh5', 'veh6', 'veh7', 'veh8', 'veh9')\n",
            "Step 83, vehicles: ('veh1', 'veh10', 'veh2', 'veh3', 'veh4', 'veh5', 'veh6', 'veh7', 'veh8', 'veh9')\n",
            "Step 84, vehicles: ('veh1', 'veh10', 'veh2', 'veh3', 'veh4', 'veh5', 'veh6', 'veh7', 'veh8', 'veh9')\n",
            "Step 85, vehicles: ('veh1', 'veh10', 'veh2', 'veh3', 'veh4', 'veh5', 'veh6', 'veh7', 'veh8', 'veh9')\n",
            "Step 86, vehicles: ('veh1', 'veh10', 'veh3', 'veh4', 'veh5', 'veh6', 'veh7', 'veh8', 'veh9')\n",
            "Step 87, vehicles: ('veh1', 'veh10', 'veh3', 'veh4', 'veh5', 'veh6', 'veh7', 'veh8', 'veh9')\n",
            "Step 88, vehicles: ('veh1', 'veh10', 'veh3', 'veh4', 'veh5', 'veh6', 'veh7', 'veh8', 'veh9')\n",
            "Step 89, vehicles: ('veh1', 'veh10', 'veh3', 'veh4', 'veh5', 'veh6', 'veh7', 'veh8', 'veh9')\n",
            "Step 90, vehicles: ('veh1', 'veh10', 'veh3', 'veh4', 'veh5', 'veh6', 'veh7', 'veh8', 'veh9')\n",
            "Step 91, vehicles: ('veh1', 'veh10', 'veh11', 'veh3', 'veh4', 'veh5', 'veh6', 'veh7', 'veh8', 'veh9')\n",
            "Step 92, vehicles: ('veh1', 'veh10', 'veh11', 'veh3', 'veh4', 'veh5', 'veh6', 'veh7', 'veh8', 'veh9')\n",
            "Step 93, vehicles: ('veh1', 'veh10', 'veh11', 'veh3', 'veh4', 'veh5', 'veh6', 'veh7', 'veh8', 'veh9')\n",
            "Step 94, vehicles: ('veh1', 'veh10', 'veh11', 'veh3', 'veh4', 'veh5', 'veh6', 'veh7', 'veh8', 'veh9')\n",
            "Step 95, vehicles: ('veh1', 'veh10', 'veh11', 'veh3', 'veh4', 'veh5', 'veh6', 'veh7', 'veh8', 'veh9')\n",
            "Step 96, vehicles: ('veh1', 'veh10', 'veh11', 'veh3', 'veh4', 'veh5', 'veh6', 'veh7', 'veh8', 'veh9')\n",
            "Step 97, vehicles: ('veh1', 'veh10', 'veh11', 'veh3', 'veh4', 'veh5', 'veh6', 'veh7', 'veh8', 'veh9')\n",
            "Step 98, vehicles: ('veh1', 'veh10', 'veh11', 'veh3', 'veh4', 'veh5', 'veh6', 'veh7', 'veh8', 'veh9')\n",
            "Step 99, vehicles: ('veh1', 'veh10', 'veh11', 'veh12', 'veh3', 'veh4', 'veh5', 'veh6', 'veh7', 'veh8', 'veh9')\n"
          ]
        }
      ],
      "source": [
        "import traci\n",
        "\n",
        "TRACI_HOST = \"0.tcp.in.ngrok.io\"\n",
        "TRACI_PORT = 17096\n",
        "TRACI_LABEL = \"colab\"  # custom label\n",
        "\n",
        "# Connect to SUMO server with a unique label\n",
        "traci.init(host=TRACI_HOST, port=TRACI_PORT, label=TRACI_LABEL)\n",
        "print(f\"Connected to SUMO server with label {TRACI_LABEL}!\")\n",
        "\n",
        "# Run simulation\n",
        "for step in range(100):\n",
        "    traci.simulationStep()\n",
        "    vehicles = traci.vehicle.getIDList()\n",
        "    print(f\"Step {step}, vehicles: {vehicles}\")\n",
        "\n",
        "# Close connection using the same label\n",
        "traci.close(False)\n"
      ]
    },
    {
      "cell_type": "code",
      "source": [],
      "metadata": {
        "id": "kA7M5JEAUJUK"
      },
      "execution_count": null,
      "outputs": []
    }
  ]
}